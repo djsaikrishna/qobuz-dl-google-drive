{
  "nbformat": 4,
  "nbformat_minor": 0,
  "metadata": {
    "colab": {
      "provenance": [],
      "collapsed_sections": []
    },
    "kernelspec": {
      "name": "python3",
      "display_name": "Python 3"
    },
    "language_info": {
      "name": "python"
    }
  },
  "cells": [
    {
      "cell_type": "markdown",
      "metadata": {
        "id": "ZVIyGBSmjlOY"
      },
      "source": [
        "#<img src='https://i.ibb.co/nD9NnTc/drive.png' height=\"50\" alt=\"GDrive\"/>"
      ]
    },
    {
      "cell_type": "code",
      "execution_count": null,
      "metadata": {
        "cellView": "form",
        "id": "6DzJx4rdjvUQ"
      },
      "outputs": [],
      "source": [
        "#@markdown <h2><b>←</b>Mount your Google Drive</h2>\n",
        "from google.colab import drive\n",
        "drive.mount('/content/drive', force_remount=True)"
      ]
    },
    {
      "cell_type": "markdown",
      "source": [
        "# QOBUZ DL GOOGLE DRIVE"
      ],
      "metadata": {
        "id": "ATW1sTNykKin"
      }
    },
    {
      "cell_type": "code",
      "execution_count": null,
      "metadata": {
        "id": "Z92ZgjtA65-q",
        "cellView": "form"
      },
      "outputs": [],
      "source": [
        "#@markdown Premium Mail:Pass and Directory: /content/drive/MyDrive\n",
        "#@markdown <h2><b>←</b>Install qobuz-dl</h2>\n",
        "!pip3 install --upgrade qobuz-dl"
      ]
    },
    {
      "cell_type": "code",
      "source": [
        "#@markdown <h2><b>←</b>qobuz-dl configuration</h2>\n",
        "!qobuz-dl"
      ],
      "metadata": {
        "id": "NZo4pOoj7GaD",
        "cellView": "form"
      },
      "execution_count": null,
      "outputs": []
    },
    {
      "cell_type": "code",
      "source": [
        "#@markdown <h3> QOBUZ DOWNLOADER\n",
        "LINK = \"https://open.qobuz.com/artist/1203965\" #@param {type:\"string\"}\n",
        "QUALITY = \"27\" #@param {type:\"string\"}\n",
        "!qobuz-dl dl $LINK -q $QUALITY --embed-art"
      ],
      "metadata": {
        "id": "ygKMeirMwLtm",
        "cellView": "form"
      },
      "execution_count": null,
      "outputs": []
    }
  ]
}